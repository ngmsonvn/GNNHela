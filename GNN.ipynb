{
 "cells": [
  {
   "cell_type": "code",
   "execution_count": null,
   "id": "53411eca",
   "metadata": {},
   "outputs": [],
   "source": [
    "import numpy as np\n",
    "import pandas as pd\n",
    "import torch\n",
    "import torch.nn as nn\n",
    "import torch.nn.functional as F\n",
    "from torch_geometric.nn import GCNConv, global_mean_pool\n",
    "from torch_geometric.data import Data, Dataset\n",
    "from rdkit import Chem\n",
    "from rdkit.Chem import AllChem\n",
    "from sklearn.model_selection import train_test_split\n",
    "from sklearn.metrics import mean_squared_error, r2_score\n",
    "import matplotlib.pyplot as plt\n",
    "from torch_geometric.nn import GATConv, global_mean_pool\n",
    "from torch.nn import BatchNorm1d\n",
    "\n",
    "def smiles_to_graph(smiles):\n",
    "    mol = Chem.MolFromSmiles(smiles)\n",
    "    if mol is None:\n",
    "        return None\n",
    "    \n",
    "    \n",
    "    num_atoms = mol.GetNumAtoms()\n",
    "    features = []\n",
    "    for atom in mol.GetAtoms():\n",
    "        feature = [\n",
    "            atom.GetAtomicNum(),\n",
    "            atom.GetDegree(),\n",
    "            atom.GetFormalCharge(),\n",
    "            atom.GetImplicitValence(),\n",
    "            atom.GetIsAromatic() * 1, \n",
    "            atom.GetHybridization().real\n",
    "        ]\n",
    "        features.append(feature)\n",
    "    \n",
    "    \n",
    "    x = torch.tensor(features, dtype=torch.float)\n",
    "    \n",
    "    \n",
    "    edge_indices = []\n",
    "    for bond in mol.GetBonds():\n",
    "        i = bond.GetBeginAtomIdx()\n",
    "        j = bond.GetEndAtomIdx()\n",
    "        \n",
    "        edge_indices.append([i, j])\n",
    "        edge_indices.append([j, i])\n",
    "    \n",
    "    if len(edge_indices) == 0: \n",
    "        edge_index = torch.zeros((2, 0), dtype=torch.long)\n",
    "    else:\n",
    "        edge_index = torch.tensor(edge_indices, dtype=torch.long).t().contiguous()\n",
    "    \n",
    "    return Data(x=x, edge_index=edge_index)\n",
    "\n",
    "\n",
    "class MoleculeDataset(Dataset):\n",
    "    def __init__(self, smiles_list, labels):\n",
    "        super(MoleculeDataset, self).__init__()\n",
    "        self.smiles_list = smiles_list\n",
    "        self.labels = labels\n",
    "        \n",
    "        self.processed_data = []\n",
    "        for i, smiles in enumerate(smiles_list):\n",
    "            graph = smiles_to_graph(smiles)\n",
    "            if graph is not None:\n",
    "                graph.y = torch.tensor([labels[i]], dtype=torch.float)\n",
    "                self.processed_data.append(graph)\n",
    "    \n",
    "    def len(self):\n",
    "        return len(self.processed_data)\n",
    "    \n",
    "    def get(self, idx):\n",
    "        return self.processed_data[idx]\n",
    "\n",
    "\n",
    "class GNN(nn.Module):\n",
    "    def __init__(self, num_features, hidden_channels):\n",
    "        super(GNN, self).__init__()\n",
    "        self.conv1 = GATConv(num_features, hidden_channels)\n",
    "        self.bn1 = BatchNorm1d(hidden_channels)\n",
    "        self.conv2 = GATConv(hidden_channels, hidden_channels)\n",
    "        self.bn2 = BatchNorm1d(hidden_channels)\n",
    "        \n",
    "        self.lin1 = nn.Linear(hidden_channels, hidden_channels // 2)\n",
    "        self.lin2 = nn.Linear(hidden_channels // 2, 1)\n",
    "\n",
    "    def forward(self, x, edge_index, batch):\n",
    "        x = F.relu(self.bn1(self.conv1(x, edge_index)))\n",
    "        x = F.dropout(x, p=0.1, training=self.training)\n",
    "        x = F.relu(self.bn2(self.conv2(x, edge_index)))\n",
    "        x = global_mean_pool(x, batch)\n",
    "        x = F.relu(self.lin1(x))\n",
    "        x = self.lin2(x)\n",
    "        return x.view(-1)\n",
    "\n",
    "\n",
    "def train(model, train_loader, optimizer, device):\n",
    "    model.train()\n",
    "    loss_all = 0\n",
    "    \n",
    "    for data in train_loader:\n",
    "        data = data.to(device)\n",
    "        optimizer.zero_grad()\n",
    "        output = model(data.x, data.edge_index, data.batch)\n",
    "        loss = F.mse_loss(output, data.y)\n",
    "        loss.backward()\n",
    "        optimizer.step()\n",
    "        loss_all += loss.item() * data.num_graphs\n",
    "    \n",
    "    return loss_all / len(train_loader.dataset)\n",
    "\n",
    "def evaluate(model, loader, device):\n",
    "    model.eval()\n",
    "    predictions = []\n",
    "    actual = []\n",
    "    \n",
    "    with torch.no_grad():\n",
    "        for data in loader:\n",
    "            data = data.to(device)\n",
    "            pred = model(data.x, data.edge_index, data.batch)\n",
    "            predictions.append(pred)\n",
    "            actual.append(data.y)\n",
    "    \n",
    "    predictions = torch.cat(predictions, dim=0).cpu().numpy()\n",
    "    actual = torch.cat(actual, dim=0).cpu().numpy()\n",
    "    \n",
    "    mse = mean_squared_error(actual, predictions)\n",
    "    r2 = r2_score(actual, predictions)\n",
    "    \n",
    "    return mse, r2, predictions, actual\n",
    "\n",
    "def build_and_train_gnn_model(smiles_list, pic50_values, test_size=0.2, epochs=200):\n",
    "\n",
    "    dataset = MoleculeDataset(smiles_list, pic50_values)\n",
    "    \n",
    "\n",
    "    train_indices, test_indices = train_test_split(\n",
    "        list(range(len(dataset))), test_size=test_size, random_state=42\n",
    "    )\n",
    "    \n",
    "\n",
    "    from torch_geometric.loader import DataLoader\n",
    "    train_loader = DataLoader(\n",
    "        [dataset[i] for i in train_indices], batch_size=16, shuffle=True\n",
    "    )\n",
    "    test_loader = DataLoader(\n",
    "        [dataset[i] for i in test_indices], batch_size=16\n",
    "    )\n",
    "    \n",
    " \n",
    "    device = torch.device('cuda' if torch.cuda.is_available() else 'cpu')\n",
    "    \n",
    "\n",
    "    model = GNN(num_features=6, hidden_channels=64).to(device)\n",
    "    optimizer = torch.optim.Adam(model.parameters(), lr=0.01)\n",
    "    scheduler = torch.optim.lr_scheduler.ReduceLROnPlateau(\n",
    "        optimizer, mode='min', factor=0.5, patience=5, verbose=True\n",
    "    )\n",
    "    \n",
    "\n",
    "    print('Starting training...')\n",
    "    best_mse = float('inf')\n",
    "    best_epoch = 0\n",
    "    train_losses = []\n",
    "    test_mses = []\n",
    "    test_r2s = []\n",
    "    \n",
    "    for epoch in range(1, epochs + 1):\n",
    "        train_loss = train(model, train_loader, optimizer, device)\n",
    "        test_mse, test_r2, _, _ = evaluate(model, test_loader, device)\n",
    "        \n",
    "        train_losses.append(train_loss)\n",
    "        test_mses.append(test_mse)\n",
    "        test_r2s.append(test_r2)\n",
    "        \n",
    "        scheduler.step(test_mse)\n",
    "        \n",
    "        if test_mse < best_mse:\n",
    "            best_mse = test_mse\n",
    "            best_epoch = epoch\n",
    "            torch.save(model.state_dict(), 'best_gnn_model.pt')\n",
    "        \n",
    "        if epoch % 10 == 0:\n",
    "            print(f'Epoch: {epoch:03d}, Train Loss: {train_loss:.4f}, '\n",
    "                  f'Test MSE: {test_mse:.4f}, Test R²: {test_r2:.4f}')\n",
    "    \n",
    "    print(f'Best model at epoch {best_epoch} with MSE {best_mse:.4f}')\n",
    "    \n",
    "\n",
    "    model.load_state_dict(torch.load('best_gnn_model.pt'))\n",
    "    \n",
    "\n",
    "    _, _, test_pred, test_true = evaluate(model, test_loader, device)\n",
    "    \n",
    "\n",
    "    plt.figure(figsize=(10, 6))\n",
    "    plt.scatter(test_true, test_pred, alpha=0.5)\n",
    "    \n",
    "\n",
    "    min_val = min(min(test_true), min(test_pred))\n",
    "    max_val = max(max(test_true), max(test_pred))\n",
    "    plt.plot([min_val, max_val], [min_val, max_val], 'r--')\n",
    "    \n",
    "    plt.xlabel('Giá trị thực pIC50')\n",
    "    plt.ylabel('Giá trị dự đoán pIC50')\n",
    "    plt.title('So sánh giá trị thực và dự đoán từ mô hình GNN')\n",
    "    plt.savefig('prediction_scatter.png')\n",
    "    \n",
    "\n",
    "    plt.figure(figsize=(12, 5))\n",
    "    plt.subplot(1, 2, 1)\n",
    "    plt.plot(range(1, epochs + 1), train_losses, label='Train Loss')\n",
    "    plt.xlabel('Epoch')\n",
    "    plt.ylabel('MSE Loss')\n",
    "    plt.title('Loss theo epoch')\n",
    "    plt.legend()\n",
    "    \n",
    "    plt.subplot(1, 2, 2)\n",
    "    plt.plot(range(1, epochs + 1), test_r2s, label='Test R²')\n",
    "    plt.xlabel('Epoch')\n",
    "    plt.ylabel('R² Score')\n",
    "    plt.title('R² Score theo epoch')\n",
    "    plt.legend()\n",
    "    \n",
    "    plt.tight_layout()\n",
    "    plt.savefig('training_curves.png')\n",
    "    \n",
    "    results_df = pd.DataFrame({\n",
    "        'Actual_pIC50': test_true.flatten(),\n",
    "        'Predicted_pIC50': test_pred.flatten()\n",
    "    })\n",
    "    results_df.to_csv('gnn_predictions.csv', index=False)\n",
    "    return model, best_mse, test_r2s[-1]\n"
   ]
  },
  {
   "cell_type": "code",
   "execution_count": 48,
   "id": "2eeb2d35",
   "metadata": {},
   "outputs": [],
   "source": [
    "df = pd.read_csv('/home/sonn/Sonn/Workspace/Projects/HelaGNN/xanthone_derivatives.csv')"
   ]
  },
  {
   "cell_type": "code",
   "execution_count": 49,
   "id": "43c7f8cd",
   "metadata": {},
   "outputs": [
    {
     "data": {
      "application/vnd.microsoft.datawrangler.viewer.v0+json": {
       "columns": [
        {
         "name": "index",
         "rawType": "int64",
         "type": "integer"
        },
        {
         "name": "SMILES",
         "rawType": "object",
         "type": "string"
        },
        {
         "name": "pIC50",
         "rawType": "float64",
         "type": "float"
        },
        {
         "name": "MaxAbsEStateIndex",
         "rawType": "float64",
         "type": "float"
        },
        {
         "name": "MaxEStateIndex",
         "rawType": "float64",
         "type": "float"
        },
        {
         "name": "MinAbsEStateIndex",
         "rawType": "float64",
         "type": "float"
        },
        {
         "name": "MinEStateIndex",
         "rawType": "float64",
         "type": "float"
        },
        {
         "name": "qed",
         "rawType": "float64",
         "type": "float"
        },
        {
         "name": "SPS",
         "rawType": "float64",
         "type": "float"
        },
        {
         "name": "MolWt",
         "rawType": "float64",
         "type": "float"
        },
        {
         "name": "HeavyAtomMolWt",
         "rawType": "float64",
         "type": "float"
        },
        {
         "name": "ExactMolWt",
         "rawType": "float64",
         "type": "float"
        },
        {
         "name": "NumValenceElectrons",
         "rawType": "float64",
         "type": "float"
        },
        {
         "name": "NumRadicalElectrons",
         "rawType": "float64",
         "type": "float"
        },
        {
         "name": "MaxPartialCharge",
         "rawType": "float64",
         "type": "float"
        },
        {
         "name": "MinPartialCharge",
         "rawType": "float64",
         "type": "float"
        },
        {
         "name": "MaxAbsPartialCharge",
         "rawType": "float64",
         "type": "float"
        },
        {
         "name": "MinAbsPartialCharge",
         "rawType": "float64",
         "type": "float"
        },
        {
         "name": "FpDensityMorgan1",
         "rawType": "float64",
         "type": "float"
        },
        {
         "name": "FpDensityMorgan2",
         "rawType": "float64",
         "type": "float"
        },
        {
         "name": "FpDensityMorgan3",
         "rawType": "float64",
         "type": "float"
        },
        {
         "name": "BCUT2D_MWHI",
         "rawType": "float64",
         "type": "float"
        },
        {
         "name": "BCUT2D_MWLOW",
         "rawType": "float64",
         "type": "float"
        },
        {
         "name": "BCUT2D_CHGHI",
         "rawType": "float64",
         "type": "float"
        },
        {
         "name": "BCUT2D_CHGLO",
         "rawType": "float64",
         "type": "float"
        },
        {
         "name": "BCUT2D_LOGPHI",
         "rawType": "float64",
         "type": "float"
        },
        {
         "name": "BCUT2D_LOGPLOW",
         "rawType": "float64",
         "type": "float"
        },
        {
         "name": "BCUT2D_MRHI",
         "rawType": "float64",
         "type": "float"
        },
        {
         "name": "BCUT2D_MRLOW",
         "rawType": "float64",
         "type": "float"
        },
        {
         "name": "AvgIpc",
         "rawType": "float64",
         "type": "float"
        },
        {
         "name": "BalabanJ",
         "rawType": "float64",
         "type": "float"
        },
        {
         "name": "BertzCT",
         "rawType": "float64",
         "type": "float"
        },
        {
         "name": "Chi0",
         "rawType": "float64",
         "type": "float"
        },
        {
         "name": "Chi0n",
         "rawType": "float64",
         "type": "float"
        },
        {
         "name": "Chi0v",
         "rawType": "float64",
         "type": "float"
        },
        {
         "name": "Chi1",
         "rawType": "float64",
         "type": "float"
        },
        {
         "name": "Chi1n",
         "rawType": "float64",
         "type": "float"
        },
        {
         "name": "Chi1v",
         "rawType": "float64",
         "type": "float"
        },
        {
         "name": "Chi2n",
         "rawType": "float64",
         "type": "float"
        },
        {
         "name": "Chi2v",
         "rawType": "float64",
         "type": "float"
        },
        {
         "name": "Chi3n",
         "rawType": "float64",
         "type": "float"
        },
        {
         "name": "Chi3v",
         "rawType": "float64",
         "type": "float"
        },
        {
         "name": "Chi4n",
         "rawType": "float64",
         "type": "float"
        },
        {
         "name": "Chi4v",
         "rawType": "float64",
         "type": "float"
        },
        {
         "name": "HallKierAlpha",
         "rawType": "float64",
         "type": "float"
        },
        {
         "name": "Ipc",
         "rawType": "float64",
         "type": "float"
        },
        {
         "name": "Kappa1",
         "rawType": "float64",
         "type": "float"
        },
        {
         "name": "Kappa2",
         "rawType": "float64",
         "type": "float"
        },
        {
         "name": "Kappa3",
         "rawType": "float64",
         "type": "float"
        },
        {
         "name": "LabuteASA",
         "rawType": "float64",
         "type": "float"
        },
        {
         "name": "PEOE_VSA1",
         "rawType": "float64",
         "type": "float"
        },
        {
         "name": "PEOE_VSA10",
         "rawType": "float64",
         "type": "float"
        },
        {
         "name": "PEOE_VSA11",
         "rawType": "float64",
         "type": "float"
        },
        {
         "name": "PEOE_VSA12",
         "rawType": "float64",
         "type": "float"
        },
        {
         "name": "PEOE_VSA13",
         "rawType": "float64",
         "type": "float"
        },
        {
         "name": "PEOE_VSA14",
         "rawType": "float64",
         "type": "float"
        },
        {
         "name": "PEOE_VSA2",
         "rawType": "float64",
         "type": "float"
        },
        {
         "name": "PEOE_VSA3",
         "rawType": "float64",
         "type": "float"
        },
        {
         "name": "PEOE_VSA4",
         "rawType": "float64",
         "type": "float"
        },
        {
         "name": "PEOE_VSA5",
         "rawType": "float64",
         "type": "float"
        },
        {
         "name": "PEOE_VSA6",
         "rawType": "float64",
         "type": "float"
        },
        {
         "name": "PEOE_VSA7",
         "rawType": "float64",
         "type": "float"
        },
        {
         "name": "PEOE_VSA8",
         "rawType": "float64",
         "type": "float"
        },
        {
         "name": "PEOE_VSA9",
         "rawType": "float64",
         "type": "float"
        },
        {
         "name": "SMR_VSA1",
         "rawType": "float64",
         "type": "float"
        },
        {
         "name": "SMR_VSA10",
         "rawType": "float64",
         "type": "float"
        },
        {
         "name": "SMR_VSA2",
         "rawType": "float64",
         "type": "float"
        },
        {
         "name": "SMR_VSA3",
         "rawType": "float64",
         "type": "float"
        },
        {
         "name": "SMR_VSA4",
         "rawType": "float64",
         "type": "float"
        },
        {
         "name": "SMR_VSA5",
         "rawType": "float64",
         "type": "float"
        },
        {
         "name": "SMR_VSA6",
         "rawType": "float64",
         "type": "float"
        },
        {
         "name": "SMR_VSA7",
         "rawType": "float64",
         "type": "float"
        },
        {
         "name": "SMR_VSA8",
         "rawType": "float64",
         "type": "float"
        },
        {
         "name": "SMR_VSA9",
         "rawType": "float64",
         "type": "float"
        },
        {
         "name": "SlogP_VSA1",
         "rawType": "float64",
         "type": "float"
        },
        {
         "name": "SlogP_VSA10",
         "rawType": "float64",
         "type": "float"
        },
        {
         "name": "SlogP_VSA11",
         "rawType": "float64",
         "type": "float"
        },
        {
         "name": "SlogP_VSA12",
         "rawType": "float64",
         "type": "float"
        },
        {
         "name": "SlogP_VSA2",
         "rawType": "float64",
         "type": "float"
        },
        {
         "name": "SlogP_VSA3",
         "rawType": "float64",
         "type": "float"
        },
        {
         "name": "SlogP_VSA4",
         "rawType": "float64",
         "type": "float"
        },
        {
         "name": "SlogP_VSA5",
         "rawType": "float64",
         "type": "float"
        },
        {
         "name": "SlogP_VSA6",
         "rawType": "float64",
         "type": "float"
        },
        {
         "name": "SlogP_VSA7",
         "rawType": "float64",
         "type": "float"
        },
        {
         "name": "SlogP_VSA8",
         "rawType": "float64",
         "type": "float"
        },
        {
         "name": "SlogP_VSA9",
         "rawType": "float64",
         "type": "float"
        },
        {
         "name": "TPSA",
         "rawType": "float64",
         "type": "float"
        },
        {
         "name": "EState_VSA1",
         "rawType": "float64",
         "type": "float"
        },
        {
         "name": "EState_VSA10",
         "rawType": "float64",
         "type": "float"
        },
        {
         "name": "EState_VSA11",
         "rawType": "float64",
         "type": "float"
        },
        {
         "name": "EState_VSA2",
         "rawType": "float64",
         "type": "float"
        },
        {
         "name": "EState_VSA3",
         "rawType": "float64",
         "type": "float"
        },
        {
         "name": "EState_VSA4",
         "rawType": "float64",
         "type": "float"
        },
        {
         "name": "EState_VSA5",
         "rawType": "float64",
         "type": "float"
        },
        {
         "name": "EState_VSA6",
         "rawType": "float64",
         "type": "float"
        },
        {
         "name": "EState_VSA7",
         "rawType": "float64",
         "type": "float"
        },
        {
         "name": "EState_VSA8",
         "rawType": "float64",
         "type": "float"
        },
        {
         "name": "EState_VSA9",
         "rawType": "float64",
         "type": "float"
        },
        {
         "name": "VSA_EState1",
         "rawType": "float64",
         "type": "float"
        },
        {
         "name": "VSA_EState10",
         "rawType": "float64",
         "type": "float"
        },
        {
         "name": "VSA_EState2",
         "rawType": "float64",
         "type": "float"
        },
        {
         "name": "VSA_EState3",
         "rawType": "float64",
         "type": "float"
        },
        {
         "name": "VSA_EState4",
         "rawType": "float64",
         "type": "float"
        },
        {
         "name": "VSA_EState5",
         "rawType": "float64",
         "type": "float"
        },
        {
         "name": "VSA_EState6",
         "rawType": "float64",
         "type": "float"
        },
        {
         "name": "VSA_EState7",
         "rawType": "float64",
         "type": "float"
        },
        {
         "name": "VSA_EState8",
         "rawType": "float64",
         "type": "float"
        },
        {
         "name": "VSA_EState9",
         "rawType": "float64",
         "type": "float"
        },
        {
         "name": "FractionCSP3",
         "rawType": "float64",
         "type": "float"
        },
        {
         "name": "HeavyAtomCount",
         "rawType": "float64",
         "type": "float"
        },
        {
         "name": "NHOHCount",
         "rawType": "float64",
         "type": "float"
        },
        {
         "name": "NOCount",
         "rawType": "float64",
         "type": "float"
        },
        {
         "name": "NumAliphaticCarbocycles",
         "rawType": "float64",
         "type": "float"
        },
        {
         "name": "NumAliphaticHeterocycles",
         "rawType": "float64",
         "type": "float"
        },
        {
         "name": "NumAliphaticRings",
         "rawType": "float64",
         "type": "float"
        },
        {
         "name": "NumAmideBonds",
         "rawType": "float64",
         "type": "float"
        },
        {
         "name": "NumAromaticCarbocycles",
         "rawType": "float64",
         "type": "float"
        },
        {
         "name": "NumAromaticHeterocycles",
         "rawType": "float64",
         "type": "float"
        },
        {
         "name": "NumAromaticRings",
         "rawType": "float64",
         "type": "float"
        },
        {
         "name": "NumAtomStereoCenters",
         "rawType": "float64",
         "type": "float"
        },
        {
         "name": "NumBridgeheadAtoms",
         "rawType": "float64",
         "type": "float"
        },
        {
         "name": "NumHAcceptors",
         "rawType": "float64",
         "type": "float"
        },
        {
         "name": "NumHDonors",
         "rawType": "float64",
         "type": "float"
        },
        {
         "name": "NumHeteroatoms",
         "rawType": "float64",
         "type": "float"
        },
        {
         "name": "NumHeterocycles",
         "rawType": "float64",
         "type": "float"
        },
        {
         "name": "NumRotatableBonds",
         "rawType": "float64",
         "type": "float"
        },
        {
         "name": "NumSaturatedCarbocycles",
         "rawType": "float64",
         "type": "float"
        },
        {
         "name": "NumSaturatedHeterocycles",
         "rawType": "float64",
         "type": "float"
        },
        {
         "name": "NumSaturatedRings",
         "rawType": "float64",
         "type": "float"
        },
        {
         "name": "NumSpiroAtoms",
         "rawType": "float64",
         "type": "float"
        },
        {
         "name": "NumUnspecifiedAtomStereoCenters",
         "rawType": "float64",
         "type": "float"
        },
        {
         "name": "Phi",
         "rawType": "float64",
         "type": "float"
        },
        {
         "name": "RingCount",
         "rawType": "float64",
         "type": "float"
        },
        {
         "name": "MolLogP",
         "rawType": "float64",
         "type": "float"
        },
        {
         "name": "MolMR",
         "rawType": "float64",
         "type": "float"
        },
        {
         "name": "fr_Al_COO",
         "rawType": "float64",
         "type": "float"
        },
        {
         "name": "fr_Al_OH",
         "rawType": "float64",
         "type": "float"
        },
        {
         "name": "fr_Al_OH_noTert",
         "rawType": "float64",
         "type": "float"
        },
        {
         "name": "fr_ArN",
         "rawType": "float64",
         "type": "float"
        },
        {
         "name": "fr_Ar_COO",
         "rawType": "float64",
         "type": "float"
        },
        {
         "name": "fr_Ar_N",
         "rawType": "float64",
         "type": "float"
        },
        {
         "name": "fr_Ar_NH",
         "rawType": "float64",
         "type": "float"
        },
        {
         "name": "fr_Ar_OH",
         "rawType": "float64",
         "type": "float"
        },
        {
         "name": "fr_COO",
         "rawType": "float64",
         "type": "float"
        },
        {
         "name": "fr_COO2",
         "rawType": "float64",
         "type": "float"
        },
        {
         "name": "fr_C_O",
         "rawType": "float64",
         "type": "float"
        },
        {
         "name": "fr_C_O_noCOO",
         "rawType": "float64",
         "type": "float"
        },
        {
         "name": "fr_C_S",
         "rawType": "float64",
         "type": "float"
        },
        {
         "name": "fr_HOCCN",
         "rawType": "float64",
         "type": "float"
        },
        {
         "name": "fr_Imine",
         "rawType": "float64",
         "type": "float"
        },
        {
         "name": "fr_NH0",
         "rawType": "float64",
         "type": "float"
        },
        {
         "name": "fr_NH1",
         "rawType": "float64",
         "type": "float"
        },
        {
         "name": "fr_NH2",
         "rawType": "float64",
         "type": "float"
        },
        {
         "name": "fr_N_O",
         "rawType": "float64",
         "type": "float"
        },
        {
         "name": "fr_Ndealkylation1",
         "rawType": "float64",
         "type": "float"
        },
        {
         "name": "fr_Ndealkylation2",
         "rawType": "float64",
         "type": "float"
        },
        {
         "name": "fr_Nhpyrrole",
         "rawType": "float64",
         "type": "float"
        },
        {
         "name": "fr_SH",
         "rawType": "float64",
         "type": "float"
        },
        {
         "name": "fr_aldehyde",
         "rawType": "float64",
         "type": "float"
        },
        {
         "name": "fr_alkyl_carbamate",
         "rawType": "float64",
         "type": "float"
        },
        {
         "name": "fr_alkyl_halide",
         "rawType": "float64",
         "type": "float"
        },
        {
         "name": "fr_allylic_oxid",
         "rawType": "float64",
         "type": "float"
        },
        {
         "name": "fr_amide",
         "rawType": "float64",
         "type": "float"
        },
        {
         "name": "fr_amidine",
         "rawType": "float64",
         "type": "float"
        },
        {
         "name": "fr_aniline",
         "rawType": "float64",
         "type": "float"
        },
        {
         "name": "fr_aryl_methyl",
         "rawType": "float64",
         "type": "float"
        },
        {
         "name": "fr_azide",
         "rawType": "float64",
         "type": "float"
        },
        {
         "name": "fr_azo",
         "rawType": "float64",
         "type": "float"
        },
        {
         "name": "fr_barbitur",
         "rawType": "float64",
         "type": "float"
        },
        {
         "name": "fr_benzene",
         "rawType": "float64",
         "type": "float"
        },
        {
         "name": "fr_benzodiazepine",
         "rawType": "float64",
         "type": "float"
        },
        {
         "name": "fr_bicyclic",
         "rawType": "float64",
         "type": "float"
        },
        {
         "name": "fr_diazo",
         "rawType": "float64",
         "type": "float"
        },
        {
         "name": "fr_dihydropyridine",
         "rawType": "float64",
         "type": "float"
        },
        {
         "name": "fr_epoxide",
         "rawType": "float64",
         "type": "float"
        },
        {
         "name": "fr_ester",
         "rawType": "float64",
         "type": "float"
        },
        {
         "name": "fr_ether",
         "rawType": "float64",
         "type": "float"
        },
        {
         "name": "fr_furan",
         "rawType": "float64",
         "type": "float"
        },
        {
         "name": "fr_guanido",
         "rawType": "float64",
         "type": "float"
        },
        {
         "name": "fr_halogen",
         "rawType": "float64",
         "type": "float"
        },
        {
         "name": "fr_hdrzine",
         "rawType": "float64",
         "type": "float"
        },
        {
         "name": "fr_hdrzone",
         "rawType": "float64",
         "type": "float"
        },
        {
         "name": "fr_imidazole",
         "rawType": "float64",
         "type": "float"
        },
        {
         "name": "fr_imide",
         "rawType": "float64",
         "type": "float"
        },
        {
         "name": "fr_isocyan",
         "rawType": "float64",
         "type": "float"
        },
        {
         "name": "fr_isothiocyan",
         "rawType": "float64",
         "type": "float"
        },
        {
         "name": "fr_ketone",
         "rawType": "float64",
         "type": "float"
        },
        {
         "name": "fr_ketone_Topliss",
         "rawType": "float64",
         "type": "float"
        },
        {
         "name": "fr_lactam",
         "rawType": "float64",
         "type": "float"
        },
        {
         "name": "fr_lactone",
         "rawType": "float64",
         "type": "float"
        },
        {
         "name": "fr_methoxy",
         "rawType": "float64",
         "type": "float"
        },
        {
         "name": "fr_morpholine",
         "rawType": "float64",
         "type": "float"
        },
        {
         "name": "fr_nitrile",
         "rawType": "float64",
         "type": "float"
        },
        {
         "name": "fr_nitro",
         "rawType": "float64",
         "type": "float"
        },
        {
         "name": "fr_nitro_arom",
         "rawType": "float64",
         "type": "float"
        },
        {
         "name": "fr_nitro_arom_nonortho",
         "rawType": "float64",
         "type": "float"
        },
        {
         "name": "fr_nitroso",
         "rawType": "float64",
         "type": "float"
        },
        {
         "name": "fr_oxazole",
         "rawType": "float64",
         "type": "float"
        },
        {
         "name": "fr_oxime",
         "rawType": "float64",
         "type": "float"
        },
        {
         "name": "fr_para_hydroxylation",
         "rawType": "float64",
         "type": "float"
        },
        {
         "name": "fr_phenol",
         "rawType": "float64",
         "type": "float"
        },
        {
         "name": "fr_phenol_noOrthoHbond",
         "rawType": "float64",
         "type": "float"
        },
        {
         "name": "fr_phos_acid",
         "rawType": "float64",
         "type": "float"
        },
        {
         "name": "fr_phos_ester",
         "rawType": "float64",
         "type": "float"
        },
        {
         "name": "fr_piperdine",
         "rawType": "float64",
         "type": "float"
        },
        {
         "name": "fr_piperzine",
         "rawType": "float64",
         "type": "float"
        },
        {
         "name": "fr_priamide",
         "rawType": "float64",
         "type": "float"
        },
        {
         "name": "fr_prisulfonamd",
         "rawType": "float64",
         "type": "float"
        },
        {
         "name": "fr_pyridine",
         "rawType": "float64",
         "type": "float"
        },
        {
         "name": "fr_quatN",
         "rawType": "float64",
         "type": "float"
        },
        {
         "name": "fr_sulfide",
         "rawType": "float64",
         "type": "float"
        },
        {
         "name": "fr_sulfonamd",
         "rawType": "float64",
         "type": "float"
        },
        {
         "name": "fr_sulfone",
         "rawType": "float64",
         "type": "float"
        },
        {
         "name": "fr_term_acetylene",
         "rawType": "float64",
         "type": "float"
        },
        {
         "name": "fr_tetrazole",
         "rawType": "float64",
         "type": "float"
        },
        {
         "name": "fr_thiazole",
         "rawType": "float64",
         "type": "float"
        },
        {
         "name": "fr_thiocyan",
         "rawType": "float64",
         "type": "float"
        },
        {
         "name": "fr_thiophene",
         "rawType": "float64",
         "type": "float"
        },
        {
         "name": "fr_unbrch_alkane",
         "rawType": "float64",
         "type": "float"
        },
        {
         "name": "fr_urea",
         "rawType": "float64",
         "type": "float"
        }
       ],
       "conversionMethod": "pd.DataFrame",
       "ref": "e7dcd4e9-8425-4b32-880c-ac8fa0d90ac2",
       "rows": [
        [
         "0",
         "O=c1c2cc3ccccc3cc2oc2cc(OCC3CO3)cc(OCC3CO3)c12",
         "5.66",
         "13.368117625136474",
         "13.368117625136474",
         "0.0749345931745819",
         "-0.115004986562526",
         "0.3695721278379662",
         "20.27586206896552",
         "390.3910000000002",
         "372.2470000000001",
         "390.110338296",
         "146.0",
         "0.0",
         "0.2038158401706017",
         "-0.4905073126654167",
         "0.4905073126654167",
         "0.2038158401706017",
         "0.8620689655172413",
         "1.5517241379310345",
         "2.2758620689655173",
         "16.6099328157805",
         "10.054254775808523",
         "2.2563925184188154",
         "-2.1204827717052384",
         "2.3327679193566",
         "-2.100333752260332",
         "6.00305169791914",
         "0.2535245746779133",
         "3.639219442898271",
         "1.541056024291253",
         "1299.746778191869",
         "19.3716682412572",
         "15.55141955942563",
         "15.55141955942563",
         "14.24231607846689",
         "9.666470293133523",
         "9.666470293133523",
         "7.453942044795063",
         "7.453942044795063",
         "5.244370921963618",
         "5.244370921963618",
         "3.502147921235192",
         "3.502147921235192",
         "-3.09",
         "16932844.08303362",
         "16.82739378400112",
         "6.4714561663069325",
         "3.201004397833844",
         "165.07490693610413",
         "23.364602752253543",
         "53.472984868839525",
         "0.0",
         "5.428790391900541",
         "0.0",
         "0.0",
         "4.794537184071822",
         "0.0",
         "0.0",
         "0.0",
         "24.26546827384644",
         "22.90518256585281",
         "12.13273413692322",
         "18.59998814349063",
         "23.364602752253543",
         "32.71093714114367",
         "0.0",
         "0.0",
         "0.0",
         "12.207932775496603",
         "26.427527858051672",
         "58.75426412366524",
         "0.0",
         "11.49902366656781",
         "14.90251629950064",
         "0.0",
         "11.49902366656781",
         "0.0",
         "38.63546063354828",
         "9.473725907600098",
         "0.0",
         "0.0",
         "57.74262466881805",
         "0.0",
         "32.71093714114367",
         "0.0",
         "73.73",
         "0.0",
         "4.794537184071822",
         "0.0",
         "17.636723167397143",
         "59.86504023683355",
         "10.772448428929591",
         "0.0",
         "12.13273413692322",
         "36.39820241076966",
         "0.0",
         "23.364602752253543",
         "28.331826131807887",
         "0.0",
         "13.368117625136474",
         "2.9585665049103005",
         "0.8702396699420514",
         "1.038452223481986",
         "15.160819039245473",
         "0.2044767166835368",
         "2.2341687554589584",
         "0.0",
         "0.2608695652173913",
         "29.0",
         "0.0",
         "6.0",
         "0.0",
         "2.0",
         "2.0",
         "0.0",
         "3.0",
         "1.0",
         "4.0",
         "2.0",
         "0.0",
         "6.0",
         "0.0",
         "6.0",
         "3.0",
         "6.0",
         "0.0",
         "2.0",
         "2.0",
         "0.0",
         "2.0",
         "3.755094526425828",
         "6.0",
         "3.654600000000002",
         "107.96600000000004",
         "0.0",
         "0.0",
         "0.0",
         "0.0",
         "0.0",
         "0.0",
         "0.0",
         "0.0",
         "0.0",
         "0.0",
         "0.0",
         "0.0",
         "0.0",
         "0.0",
         "0.0",
         "0.0",
         "0.0",
         "0.0",
         "0.0",
         "0.0",
         "0.0",
         "0.0",
         "0.0",
         "0.0",
         "0.0",
         "0.0",
         "0.0",
         "0.0",
         "0.0",
         "0.0",
         "0.0",
         "0.0",
         "0.0",
         "0.0",
         "3.0",
         "0.0",
         "3.0",
         "0.0",
         "0.0",
         "2.0",
         "0.0",
         "4.0",
         "0.0",
         "0.0",
         "0.0",
         "0.0",
         "0.0",
         "0.0",
         "0.0",
         "0.0",
         "0.0",
         "0.0",
         "0.0",
         "0.0",
         "0.0",
         "0.0",
         "0.0",
         "0.0",
         "0.0",
         "0.0",
         "0.0",
         "0.0",
         "0.0",
         "0.0",
         "0.0",
         "0.0",
         "0.0",
         "0.0",
         "0.0",
         "0.0",
         "0.0",
         "0.0",
         "0.0",
         "0.0",
         "0.0",
         "0.0",
         "0.0",
         "0.0",
         "0.0",
         "0.0",
         "0.0",
         "0.0",
         "0.0",
         "0.0",
         "0.0"
        ],
        [
         "1",
         "O=c1c2c(OCC3CS3)cc(OCC3CS3)cc2oc2ccc3ccccc3c12",
         "4.6",
         "13.58112310510624",
         "13.58112310510624",
         "0.0548162320483747",
         "-0.0548162320483747",
         "0.2451216100835784",
         "20.27586206896552",
         "422.52700000000016",
         "404.38300000000027",
         "422.064651056",
         "146.0",
         "0.0",
         "0.2044252333303402",
         "-0.4921237452426781",
         "0.4921237452426781",
         "0.2044252333303402",
         "0.896551724137931",
         "1.6551724137931034",
         "2.4482758620689653",
         "32.17274575585357",
         "10.033984176068383",
         "2.2560237494632776",
         "-2.126279332306213",
         "2.365841598073145",
         "-2.097377641074747",
         "8.066712572517135",
         "0.3151943439107257",
         "3.6471542105326",
         "1.5689896213081236",
         "1305.256553196196",
         "19.3716682412572",
         "15.55141955942563",
         "17.18441272128108",
         "14.259152830872498",
         "9.67245335727723",
         "11.769962937238548",
         "7.418258442272101",
         "10.084925108938762",
         "5.269695564044884",
         "7.151336799269521",
         "3.581992427096486",
         "4.3751408970200965",
         "-2.309999999999999",
         "17353327.502807792",
         "17.540109648325764",
         "6.885756159346898",
         "3.341147910278796",
         "175.09403652782075",
         "13.890876844653445",
         "41.26505209334293",
         "0.0",
         "5.428790391900541",
         "0.0",
         "0.0",
         "4.794537184071822",
         "0.0",
         "23.52376989878223",
         "0.0",
         "30.33183534230805",
         "16.838815497391202",
         "34.13831741038115",
         "5.386224214464796",
         "13.890876844653445",
         "56.2347070399259",
         "0.0",
         "0.0",
         "0.0",
         "10.499876059964349",
         "24.719471142519414",
         "58.75426412366524",
         "0.0",
         "11.49902366656781",
         "14.90251629950064",
         "0.0",
         "11.49902366656781",
         "23.52376989878223",
         "35.21934720248376",
         "0.0",
         "0.0",
         "0.0",
         "57.742624668818046",
         "0.0",
         "32.71093714114367",
         "0.0",
         "48.67",
         "0.0",
         "4.794537184071822",
         "0.0",
         "5.428790391900541",
         "57.15115236777208",
         "22.27815564242317",
         "0.0",
         "0.0",
         "72.05470644647512",
         "0.0",
         "13.890876844653445",
         "18.228202916395105",
         "3.758388132556117",
         "13.58112310510624",
         "4.080079588622539",
         "1.039607898715042",
         "3.4874603975906147",
         "15.403260438017591",
         "0.0",
         "1.255210856330084",
         "0.0",
         "0.2608695652173913",
         "29.0",
         "0.0",
         "4.0",
         "0.0",
         "2.0",
         "2.0",
         "0.0",
         "3.0",
         "1.0",
         "4.0",
         "2.0",
         "0.0",
         "6.0",
         "0.0",
         "6.0",
         "3.0",
         "6.0",
         "0.0",
         "2.0",
         "2.0",
         "0.0",
         "2.0",
         "4.164721311951003",
         "6.0",
         "5.087800000000004",
         "120.97800000000002",
         "0.0",
         "0.0",
         "0.0",
         "0.0",
         "0.0",
         "0.0",
         "0.0",
         "0.0",
         "0.0",
         "0.0",
         "0.0",
         "0.0",
         "0.0",
         "0.0",
         "0.0",
         "0.0",
         "0.0",
         "0.0",
         "0.0",
         "0.0",
         "0.0",
         "0.0",
         "0.0",
         "0.0",
         "0.0",
         "0.0",
         "0.0",
         "0.0",
         "0.0",
         "0.0",
         "0.0",
         "0.0",
         "0.0",
         "0.0",
         "3.0",
         "0.0",
         "4.0",
         "0.0",
         "0.0",
         "0.0",
         "0.0",
         "2.0",
         "0.0",
         "0.0",
         "0.0",
         "0.0",
         "0.0",
         "0.0",
         "0.0",
         "0.0",
         "0.0",
         "0.0",
         "0.0",
         "0.0",
         "0.0",
         "0.0",
         "0.0",
         "0.0",
         "0.0",
         "0.0",
         "0.0",
         "0.0",
         "0.0",
         "0.0",
         "0.0",
         "0.0",
         "0.0",
         "0.0",
         "0.0",
         "0.0",
         "0.0",
         "0.0",
         "0.0",
         "0.0",
         "0.0",
         "2.0",
         "0.0",
         "0.0",
         "0.0",
         "0.0",
         "0.0",
         "0.0",
         "0.0",
         "0.0",
         "0.0"
        ],
        [
         "2",
         "COc1cc(OCC2CO2)cc2oc3ccccc3c(=O)c12",
         "4.98",
         "12.65426936360964",
         "12.65426936360964",
         "0.1057627341059879",
         "-0.1057627341059879",
         "0.5472566618741685",
         "16.863636363636363",
         "298.2940000000001",
         "284.182",
         "298.084123548",
         "112.0",
         "0.0",
         "0.2037927681868795",
         "-0.4956954898653388",
         "0.4956954898653388",
         "0.2037927681868795",
         "1.2272727272727273",
         "2.0454545454545454",
         "2.8181818181818183",
         "16.604652264028594",
         "10.114576109454314",
         "2.233181604861387",
         "-2.097944002146364",
         "2.3116704770233967",
         "-2.066048616580722",
         "5.934561371125664",
         "0.2618160285359164",
         "3.3627568325888832",
         "1.9211630889387683",
         "907.9507141819288",
         "15.104083527755582",
         "11.996906899019791",
         "11.996906899019791",
         "10.758351493073064",
         "7.040468934705266",
         "7.040468934705266",
         "5.1923614176836645",
         "5.1923614176836645",
         "3.676342377463092",
         "3.676342377463092",
         "2.464244894370946",
         "2.464244894370946",
         "-2.53",
         "303401.3724634994",
         "13.155083151961108",
         "5.032007511063021",
         "2.194495822082261",
         "125.555644099598",
         "18.627739798453494",
         "40.76213651657832",
         "0.0",
         "5.428790391900541",
         "0.0",
         "0.0",
         "4.794537184071822",
         "0.0",
         "0.0",
         "0.0",
         "12.13273413692322",
         "12.13273413692322",
         "12.13273413692322",
         "19.10290372025525",
         "18.627739798453494",
         "21.93848871221408",
         "0.0",
         "0.0",
         "0.0",
         "6.103966387748303",
         "20.32356147030337",
         "46.621529986742026",
         "0.0",
         "11.49902366656781",
         "14.90251629950064",
         "0.0",
         "11.49902366656781",
         "0.0",
         "26.427527858051672",
         "4.736862953800049",
         "0.0",
         "0.0",
         "45.60989053189483",
         "0.0",
         "21.93848871221408",
         "0.0",
         "61.2",
         "0.0",
         "4.794537184071822",
         "0.0",
         "11.532756779648842",
         "40.044394343294805",
         "6.606881964512918",
         "7.109797541277533",
         "24.26546827384644",
         "12.13273413692322",
         "0.0",
         "18.627739798453494",
         "21.9771909801825",
         "0.0",
         "12.65426936360964",
         "0.9625654814394896",
         "0.8937693163685232",
         "1.0435180461073317",
         "10.580744017252856",
         "0.1576884768803961",
         "1.2052691203764434",
         "1.5249851977828168",
         "0.2352941176470588",
         "22.0",
         "0.0",
         "5.0",
         "0.0",
         "1.0",
         "1.0",
         "0.0",
         "2.0",
         "1.0",
         "3.0",
         "1.0",
         "0.0",
         "5.0",
         "0.0",
         "5.0",
         "2.0",
         "4.0",
         "0.0",
         "1.0",
         "1.0",
         "0.0",
         "1.0",
         "3.008930783151223",
         "4.0",
         "2.732400000000001",
         "81.77700000000004",
         "0.0",
         "0.0",
         "0.0",
         "0.0",
         "0.0",
         "0.0",
         "0.0",
         "0.0",
         "0.0",
         "0.0",
         "0.0",
         "0.0",
         "0.0",
         "0.0",
         "0.0",
         "0.0",
         "0.0",
         "0.0",
         "0.0",
         "0.0",
         "0.0",
         "0.0",
         "0.0",
         "0.0",
         "0.0",
         "0.0",
         "0.0",
         "0.0",
         "0.0",
         "0.0",
         "0.0",
         "0.0",
         "0.0",
         "0.0",
         "2.0",
         "0.0",
         "2.0",
         "0.0",
         "0.0",
         "1.0",
         "0.0",
         "3.0",
         "0.0",
         "0.0",
         "0.0",
         "0.0",
         "0.0",
         "0.0",
         "0.0",
         "0.0",
         "0.0",
         "0.0",
         "0.0",
         "0.0",
         "0.0",
         "1.0",
         "0.0",
         "0.0",
         "0.0",
         "0.0",
         "0.0",
         "0.0",
         "0.0",
         "0.0",
         "1.0",
         "0.0",
         "0.0",
         "0.0",
         "0.0",
         "0.0",
         "0.0",
         "0.0",
         "0.0",
         "0.0",
         "0.0",
         "0.0",
         "0.0",
         "0.0",
         "0.0",
         "0.0",
         "0.0",
         "0.0",
         "0.0",
         "0.0",
         "0.0"
        ]
       ],
       "shape": {
        "columns": 219,
        "rows": 3
       }
      },
      "text/html": [
       "<div>\n",
       "<style scoped>\n",
       "    .dataframe tbody tr th:only-of-type {\n",
       "        vertical-align: middle;\n",
       "    }\n",
       "\n",
       "    .dataframe tbody tr th {\n",
       "        vertical-align: top;\n",
       "    }\n",
       "\n",
       "    .dataframe thead th {\n",
       "        text-align: right;\n",
       "    }\n",
       "</style>\n",
       "<table border=\"1\" class=\"dataframe\">\n",
       "  <thead>\n",
       "    <tr style=\"text-align: right;\">\n",
       "      <th></th>\n",
       "      <th>SMILES</th>\n",
       "      <th>pIC50</th>\n",
       "      <th>MaxAbsEStateIndex</th>\n",
       "      <th>MaxEStateIndex</th>\n",
       "      <th>MinAbsEStateIndex</th>\n",
       "      <th>MinEStateIndex</th>\n",
       "      <th>qed</th>\n",
       "      <th>SPS</th>\n",
       "      <th>MolWt</th>\n",
       "      <th>HeavyAtomMolWt</th>\n",
       "      <th>...</th>\n",
       "      <th>fr_sulfide</th>\n",
       "      <th>fr_sulfonamd</th>\n",
       "      <th>fr_sulfone</th>\n",
       "      <th>fr_term_acetylene</th>\n",
       "      <th>fr_tetrazole</th>\n",
       "      <th>fr_thiazole</th>\n",
       "      <th>fr_thiocyan</th>\n",
       "      <th>fr_thiophene</th>\n",
       "      <th>fr_unbrch_alkane</th>\n",
       "      <th>fr_urea</th>\n",
       "    </tr>\n",
       "  </thead>\n",
       "  <tbody>\n",
       "    <tr>\n",
       "      <th>0</th>\n",
       "      <td>O=c1c2cc3ccccc3cc2oc2cc(OCC3CO3)cc(OCC3CO3)c12</td>\n",
       "      <td>5.66</td>\n",
       "      <td>13.368118</td>\n",
       "      <td>13.368118</td>\n",
       "      <td>0.074935</td>\n",
       "      <td>-0.115005</td>\n",
       "      <td>0.369572</td>\n",
       "      <td>20.275862</td>\n",
       "      <td>390.391</td>\n",
       "      <td>372.247</td>\n",
       "      <td>...</td>\n",
       "      <td>0.0</td>\n",
       "      <td>0.0</td>\n",
       "      <td>0.0</td>\n",
       "      <td>0.0</td>\n",
       "      <td>0.0</td>\n",
       "      <td>0.0</td>\n",
       "      <td>0.0</td>\n",
       "      <td>0.0</td>\n",
       "      <td>0.0</td>\n",
       "      <td>0.0</td>\n",
       "    </tr>\n",
       "    <tr>\n",
       "      <th>1</th>\n",
       "      <td>O=c1c2c(OCC3CS3)cc(OCC3CS3)cc2oc2ccc3ccccc3c12</td>\n",
       "      <td>4.60</td>\n",
       "      <td>13.581123</td>\n",
       "      <td>13.581123</td>\n",
       "      <td>0.054816</td>\n",
       "      <td>-0.054816</td>\n",
       "      <td>0.245122</td>\n",
       "      <td>20.275862</td>\n",
       "      <td>422.527</td>\n",
       "      <td>404.383</td>\n",
       "      <td>...</td>\n",
       "      <td>2.0</td>\n",
       "      <td>0.0</td>\n",
       "      <td>0.0</td>\n",
       "      <td>0.0</td>\n",
       "      <td>0.0</td>\n",
       "      <td>0.0</td>\n",
       "      <td>0.0</td>\n",
       "      <td>0.0</td>\n",
       "      <td>0.0</td>\n",
       "      <td>0.0</td>\n",
       "    </tr>\n",
       "    <tr>\n",
       "      <th>2</th>\n",
       "      <td>COc1cc(OCC2CO2)cc2oc3ccccc3c(=O)c12</td>\n",
       "      <td>4.98</td>\n",
       "      <td>12.654269</td>\n",
       "      <td>12.654269</td>\n",
       "      <td>0.105763</td>\n",
       "      <td>-0.105763</td>\n",
       "      <td>0.547257</td>\n",
       "      <td>16.863636</td>\n",
       "      <td>298.294</td>\n",
       "      <td>284.182</td>\n",
       "      <td>...</td>\n",
       "      <td>0.0</td>\n",
       "      <td>0.0</td>\n",
       "      <td>0.0</td>\n",
       "      <td>0.0</td>\n",
       "      <td>0.0</td>\n",
       "      <td>0.0</td>\n",
       "      <td>0.0</td>\n",
       "      <td>0.0</td>\n",
       "      <td>0.0</td>\n",
       "      <td>0.0</td>\n",
       "    </tr>\n",
       "  </tbody>\n",
       "</table>\n",
       "<p>3 rows × 219 columns</p>\n",
       "</div>"
      ],
      "text/plain": [
       "                                           SMILES  pIC50  MaxAbsEStateIndex  \\\n",
       "0  O=c1c2cc3ccccc3cc2oc2cc(OCC3CO3)cc(OCC3CO3)c12   5.66          13.368118   \n",
       "1  O=c1c2c(OCC3CS3)cc(OCC3CS3)cc2oc2ccc3ccccc3c12   4.60          13.581123   \n",
       "2             COc1cc(OCC2CO2)cc2oc3ccccc3c(=O)c12   4.98          12.654269   \n",
       "\n",
       "   MaxEStateIndex  MinAbsEStateIndex  MinEStateIndex       qed        SPS  \\\n",
       "0       13.368118           0.074935       -0.115005  0.369572  20.275862   \n",
       "1       13.581123           0.054816       -0.054816  0.245122  20.275862   \n",
       "2       12.654269           0.105763       -0.105763  0.547257  16.863636   \n",
       "\n",
       "     MolWt  HeavyAtomMolWt  ...  fr_sulfide  fr_sulfonamd  fr_sulfone  \\\n",
       "0  390.391         372.247  ...         0.0           0.0         0.0   \n",
       "1  422.527         404.383  ...         2.0           0.0         0.0   \n",
       "2  298.294         284.182  ...         0.0           0.0         0.0   \n",
       "\n",
       "   fr_term_acetylene  fr_tetrazole  fr_thiazole  fr_thiocyan  fr_thiophene  \\\n",
       "0                0.0           0.0          0.0          0.0           0.0   \n",
       "1                0.0           0.0          0.0          0.0           0.0   \n",
       "2                0.0           0.0          0.0          0.0           0.0   \n",
       "\n",
       "   fr_unbrch_alkane  fr_urea  \n",
       "0               0.0      0.0  \n",
       "1               0.0      0.0  \n",
       "2               0.0      0.0  \n",
       "\n",
       "[3 rows x 219 columns]"
      ]
     },
     "execution_count": 49,
     "metadata": {},
     "output_type": "execute_result"
    }
   ],
   "source": [
    "df.head(3)"
   ]
  },
  {
   "cell_type": "code",
   "execution_count": 50,
   "id": "bcd9d65e",
   "metadata": {},
   "outputs": [],
   "source": [
    "smiles_list = df['SMILES'].tolist()\n",
    "pic50_values = df['pIC50'].tolist()"
   ]
  },
  {
   "cell_type": "code",
   "execution_count": 51,
   "id": "e87d8c38",
   "metadata": {},
   "outputs": [
    {
     "name": "stderr",
     "output_type": "stream",
     "text": [
      "/home/sonn/anaconda3/envs/WSAIPytorch3.11/lib/python3.11/site-packages/torch/optim/lr_scheduler.py:62: UserWarning: The verbose parameter is deprecated. Please use get_last_lr() to access the learning rate.\n",
      "  warnings.warn(\n"
     ]
    },
    {
     "name": "stdout",
     "output_type": "stream",
     "text": [
      "Starting training...\n",
      "Epoch: 010, Train Loss: 0.2710, Test MSE: 0.1289, Test R²: -1.4067\n",
      "Epoch: 020, Train Loss: 0.1668, Test MSE: 0.2751, Test R²: -4.1370\n",
      "Epoch: 030, Train Loss: 0.1570, Test MSE: 0.1552, Test R²: -1.8983\n",
      "Epoch: 040, Train Loss: 0.1529, Test MSE: 0.1281, Test R²: -1.3927\n",
      "Epoch: 050, Train Loss: 0.1393, Test MSE: 0.1299, Test R²: -1.4249\n",
      "Epoch: 060, Train Loss: 0.1543, Test MSE: 0.1298, Test R²: -1.4238\n",
      "Epoch: 070, Train Loss: 0.1497, Test MSE: 0.1318, Test R²: -1.4618\n",
      "Epoch: 080, Train Loss: 0.1588, Test MSE: 0.1233, Test R²: -1.3022\n",
      "Epoch: 090, Train Loss: 0.1564, Test MSE: 0.1338, Test R²: -1.4979\n",
      "Epoch: 100, Train Loss: 0.1496, Test MSE: 0.1367, Test R²: -1.5536\n",
      "Epoch: 110, Train Loss: 0.1668, Test MSE: 0.1333, Test R²: -1.4899\n",
      "Epoch: 120, Train Loss: 0.1529, Test MSE: 0.1318, Test R²: -1.4609\n",
      "Epoch: 130, Train Loss: 0.1405, Test MSE: 0.1190, Test R²: -1.2228\n",
      "Epoch: 140, Train Loss: 0.1379, Test MSE: 0.1227, Test R²: -1.2913\n",
      "Epoch: 150, Train Loss: 0.1593, Test MSE: 0.1259, Test R²: -1.3509\n",
      "Epoch: 160, Train Loss: 0.1431, Test MSE: 0.1336, Test R²: -1.4944\n",
      "Epoch: 170, Train Loss: 0.1831, Test MSE: 0.1337, Test R²: -1.4968\n",
      "Epoch: 180, Train Loss: 0.1644, Test MSE: 0.1279, Test R²: -1.3881\n",
      "Epoch: 190, Train Loss: 0.1547, Test MSE: 0.1282, Test R²: -1.3947\n",
      "Epoch: 200, Train Loss: 0.1650, Test MSE: 0.1315, Test R²: -1.4549\n",
      "Best model at epoch 9 with MSE 0.0955\n"
     ]
    },
    {
     "name": "stderr",
     "output_type": "stream",
     "text": [
      "/tmp/ipykernel_52906/2814066090.py:229: FutureWarning: You are using `torch.load` with `weights_only=False` (the current default value), which uses the default pickle module implicitly. It is possible to construct malicious pickle data which will execute arbitrary code during unpickling (See https://github.com/pytorch/pytorch/blob/main/SECURITY.md#untrusted-models for more details). In a future release, the default value for `weights_only` will be flipped to `True`. This limits the functions that could be executed during unpickling. Arbitrary objects will no longer be allowed to be loaded via this mode unless they are explicitly allowlisted by the user via `torch.serialization.add_safe_globals`. We recommend you start setting `weights_only=True` for any use case where you don't have full control of the loaded file. Please open an issue on GitHub for any issues related to this experimental feature.\n",
      "  model.load_state_dict(torch.load('best_gnn_model.pt'))\n"
     ]
    },
    {
     "name": "stdout",
     "output_type": "stream",
     "text": [
      "Kết quả cuối cùng: MSE = 0.0955, R² = -1.4549\n"
     ]
    },
    {
     "data": {
      "image/png": "[encoded data removed]",
      "text/plain": [
       "<Figure size 1000x600 with 1 Axes>"
      ]
     },
     "metadata": {},
     "output_type": "display_data"
    },
    {
     "data": {
      "image/png": "[encoded data removed]",
      "text/plain": [
       "<Figure size 1200x500 with 2 Axes>"
      ]
     },
     "metadata": {},
     "output_type": "display_data"
    }
   ],
   "source": [
    "model, best_mse, best_r2 = build_and_train_gnn_model(smiles_list, pic50_values)\n",
    "print(f'Kết quả cuối cùng: MSE = {best_mse:.4f}, R² = {best_r2:.4f}')"
   ]
  },
  {
   "cell_type": "code",
   "execution_count": null,
   "id": "65c0b2f8",
   "metadata": {},
   "outputs": [
    {
     "name": "stdout",
     "output_type": "stream",
     "text": [
      "✅ Đã lưu file augmented_smiles_pic50.csv thành công!\n"
     ]
    }
   ],
   "source": [
    "from rdkit import Chem\n",
    "from rdkit.Chem import AllChem\n",
    "import pandas as pd\n",
    "import random\n",
    "\n",
    "def augment_smiles(smiles, n_augments=5):\n",
    "    \"\"\"\n",
    "    Tạo n_augments SMILES ngẫu nhiên cho 1 SMILES đầu vào.\n",
    "    \"\"\"\n",
    "    mol = Chem.MolFromSmiles(smiles)\n",
    "    if mol is None:\n",
    "        return []\n",
    "\n",
    "    smiles_set = set()\n",
    "    for _ in range(n_augments):\n",
    "        new_smiles = Chem.MolToSmiles(mol, doRandom=True)\n",
    "        smiles_set.add(new_smiles)\n",
    "\n",
    "    return list(smiles_set)\n",
    "\n",
    "def smiles_regression_augmentation(original_df, n_augments=5):\n",
    "    \"\"\"\n",
    "    original_df: pandas DataFrame với 2 cột: 'SMILES', 'pIC50'\n",
    "    \"\"\"\n",
    "    augmented_data = []\n",
    "\n",
    "    for i, row in original_df.iterrows():\n",
    "        original_smiles = row['SMILES']\n",
    "        pic50 = row['pIC50']\n",
    "\n",
    "        \n",
    "        augmented_data.append((original_smiles, pic50))\n",
    "\n",
    "        \n",
    "        aug_smiles_list = augment_smiles(original_smiles, n_augments=n_augments)\n",
    "        for aug_smiles in aug_smiles_list:\n",
    "            augmented_data.append((aug_smiles, pic50))\n",
    "\n",
    "    \n",
    "    aug_df = pd.DataFrame(augmented_data, columns=['SMILES', 'pIC50'])\n",
    "\n",
    "    return aug_df\n",
    "\n",
    "\n",
    "original_df = pd.read_csv('xanthone_derivatives.csv')\n",
    "\n",
    "\n",
    "augmented_df = smiles_regression_augmentation(original_df, n_augments=5)\n",
    "\n",
    "augmented_df.to_csv('augmented_smiles_pic50.csv', index=False)\n",
    "print(\"✅ Đã lưu file augmented_smiles_pic50.csv thành công!\")"
   ]
  },
  {
   "cell_type": "code",
   "execution_count": 57,
   "id": "e508bb15",
   "metadata": {},
   "outputs": [
    {
     "name": "stdout",
     "output_type": "stream",
     "text": [
      "Starting training...\n"
     ]
    },
    {
     "name": "stderr",
     "output_type": "stream",
     "text": [
      "/home/sonn/anaconda3/envs/WSAIPytorch3.11/lib/python3.11/site-packages/torch/optim/lr_scheduler.py:62: UserWarning: The verbose parameter is deprecated. Please use get_last_lr() to access the learning rate.\n",
      "  warnings.warn(\n"
     ]
    },
    {
     "name": "stdout",
     "output_type": "stream",
     "text": [
      "Epoch: 010, Train Loss: 0.1087, Test MSE: 0.8069, Test R²: -3.2215\n",
      "Epoch: 020, Train Loss: 0.0898, Test MSE: 0.0746, Test R²: 0.6099\n",
      "Epoch: 030, Train Loss: 0.0901, Test MSE: 0.0661, Test R²: 0.6544\n",
      "Epoch: 040, Train Loss: 0.0693, Test MSE: 0.0538, Test R²: 0.7184\n",
      "Epoch: 050, Train Loss: 0.0812, Test MSE: 0.0938, Test R²: 0.5094\n",
      "Epoch: 060, Train Loss: 0.0673, Test MSE: 0.0580, Test R²: 0.6967\n",
      "Epoch: 070, Train Loss: 0.0641, Test MSE: 0.0405, Test R²: 0.7882\n",
      "Epoch: 080, Train Loss: 0.0650, Test MSE: 0.0395, Test R²: 0.7935\n",
      "Epoch: 090, Train Loss: 0.0632, Test MSE: 0.0378, Test R²: 0.8021\n",
      "Epoch: 100, Train Loss: 0.0737, Test MSE: 0.0435, Test R²: 0.7724\n",
      "Epoch: 110, Train Loss: 0.0698, Test MSE: 0.0417, Test R²: 0.7818\n",
      "Epoch: 120, Train Loss: 0.0572, Test MSE: 0.0416, Test R²: 0.7824\n",
      "Epoch: 130, Train Loss: 0.0648, Test MSE: 0.0421, Test R²: 0.7799\n",
      "Epoch: 140, Train Loss: 0.0704, Test MSE: 0.0418, Test R²: 0.7812\n",
      "Epoch: 150, Train Loss: 0.0601, Test MSE: 0.0415, Test R²: 0.7830\n",
      "Epoch: 160, Train Loss: 0.0679, Test MSE: 0.0420, Test R²: 0.7801\n",
      "Epoch: 170, Train Loss: 0.0637, Test MSE: 0.0403, Test R²: 0.7890\n",
      "Epoch: 180, Train Loss: 0.0682, Test MSE: 0.0437, Test R²: 0.7714\n",
      "Epoch: 190, Train Loss: 0.0597, Test MSE: 0.0413, Test R²: 0.7841\n",
      "Epoch: 200, Train Loss: 0.0530, Test MSE: 0.0435, Test R²: 0.7724\n",
      "Best model at epoch 90 with MSE 0.0378\n"
     ]
    },
    {
     "name": "stderr",
     "output_type": "stream",
     "text": [
      "/tmp/ipykernel_52906/2814066090.py:229: FutureWarning: You are using `torch.load` with `weights_only=False` (the current default value), which uses the default pickle module implicitly. It is possible to construct malicious pickle data which will execute arbitrary code during unpickling (See https://github.com/pytorch/pytorch/blob/main/SECURITY.md#untrusted-models for more details). In a future release, the default value for `weights_only` will be flipped to `True`. This limits the functions that could be executed during unpickling. Arbitrary objects will no longer be allowed to be loaded via this mode unless they are explicitly allowlisted by the user via `torch.serialization.add_safe_globals`. We recommend you start setting `weights_only=True` for any use case where you don't have full control of the loaded file. Please open an issue on GitHub for any issues related to this experimental feature.\n",
      "  model.load_state_dict(torch.load('best_gnn_model.pt'))\n"
     ]
    },
    {
     "name": "stdout",
     "output_type": "stream",
     "text": [
      "Kết quả cuối cùng: MSE = 0.0378, R² = 0.7724\n"
     ]
    },
    {
     "data": {
      "image/png": "[encoded data removed]",
      "text/plain": [
       "<Figure size 1000x600 with 1 Axes>"
      ]
     },
     "metadata": {},
     "output_type": "display_data"
    },
    {
     "data": {
      "image/png": "[encoded data removed]",
      "text/plain": [
       "<Figure size 1200x500 with 2 Axes>"
      ]
     },
     "metadata": {},
     "output_type": "display_data"
    }
   ],
   "source": [
    "data_aug =  pd.read_csv(\"augmented_smiles_pic50.csv\")\n",
    "smiles_list2 = data_aug['SMILES'].tolist()\n",
    "pic50_values2 = data_aug['pIC50'].tolist()\n",
    "model, best_mse, best_r2 = build_and_train_gnn_model(smiles_list2, pic50_values2)\n",
    "print(f'Kết quả cuối cùng: MSE = {best_mse:.4f}, R² = {best_r2:.4f}')"
   ]
  },
  {
   "cell_type": "code",
   "execution_count": null,
   "id": "4f92a0f1",
   "metadata": {},
   "outputs": [
    {
     "name": "stdout",
     "output_type": "stream",
     "text": [
      "R² score: 0.8098\n"
     ]
    },
    {
     "data": {
      "image/png": "[encoded data removed]",
      "text/plain": [
       "<Figure size 800x600 with 1 Axes>"
      ]
     },
     "metadata": {},
     "output_type": "display_data"
    }
   ],
   "source": [
    "import pandas as pd\n",
    "import matplotlib.pyplot as plt\n",
    "from sklearn.metrics import r2_score\n",
    "\n",
    "\n",
    "df = pd.read_csv('gnn_predictions.csv')\n",
    "\n",
    "\n",
    "y_true = df['Actual_pIC50'].values\n",
    "y_pred = df['Predicted_pIC50'].values\n",
    "\n",
    "r2 = r2_score(y_true, y_pred)\n",
    "print(f'R² score: {r2:.4f}')\n",
    "\n",
    "\n",
    "plt.figure(figsize=(8, 6))\n",
    "plt.scatter(y_true, y_pred, color='blue', alpha=0.6)\n",
    "plt.plot([min(y_true), max(y_true)], [min(y_true), max(y_true)], 'r--')  # Đường y = x\n",
    "plt.xlabel('Actual pIC50')\n",
    "plt.ylabel('Predicted pIC50')\n",
    "plt.title(f'Actual vs Predicted pIC50 (R² = {r2:.4f})')\n",
    "plt.grid(True)\n",
    "plt.tight_layout()\n",
    "plt.show()\n"
   ]
  },
  {
   "cell_type": "code",
   "execution_count": 65,
   "id": "4e8ab3e2",
   "metadata": {},
   "outputs": [],
   "source": [
    "from sklearn.metrics import root_mean_squared_error"
   ]
  },
  {
   "cell_type": "code",
   "execution_count": 66,
   "id": "52b3babc",
   "metadata": {},
   "outputs": [
    {
     "data": {
      "text/plain": [
       "0.1906823311367569"
      ]
     },
     "execution_count": 66,
     "metadata": {},
     "output_type": "execute_result"
    }
   ],
   "source": [
    "root_mean_squared_error(y_true, y_pred)"
   ]
  }
 ],
 "metadata": {
  "kernelspec": {
   "display_name": "WSAIPytorch3.11",
   "language": "python",
   "name": "python3"
  },
  "language_info": {
   "codemirror_mode": {
    "name": "ipython",
    "version": 3
   },
   "file_extension": ".py",
   "mimetype": "text/x-python",
   "name": "python",
   "nbconvert_exporter": "python",
   "pygments_lexer": "ipython3",
   "version": "3.11.8"
  }
 },
 "nbformat": 4,
 "nbformat_minor": 5
}
